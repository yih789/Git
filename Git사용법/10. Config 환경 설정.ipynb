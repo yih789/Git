{
 "cells": [
  {
   "cell_type": "markdown",
   "id": "c881069c",
   "metadata": {},
   "source": [
    "## · 컴퓨터 전체의 git config 설정"
   ]
  },
  {
   "cell_type": "markdown",
   "id": "cbb431c3",
   "metadata": {},
   "source": [
    "- git config --global --list: 내 컴퓨터의 git 환경설정 상태 확인\n",
    "- git config --global user.name \"test\"\n",
    "- git config --global user.email \"test@naver.com\"  \n",
    "\n",
    "    ==> --global 옵션으로 특정 프로젝트가 아니라 컴퓨터 전체에 환경설정 가능\n",
    "    \n",
    "    ==> window의 .gitconfig 파일 경로: 보통 C:\\사용자\\$USER  \n",
    "    파일의 내용은 git config --global --list의 내용과 동일하다.  \n",
    "    ==> git config --global로 설정 변경해도 되고 위의 .gitconfig 파일에 접근하여 직접 파일 내용을 수정해도 설정 변경이 가능하다."
   ]
  },
  {
   "cell_type": "markdown",
   "id": "164e5072",
   "metadata": {},
   "source": [
    "## · 특정 프로젝트의 git config 설정"
   ]
  },
  {
   "cell_type": "markdown",
   "id": "cf962b14",
   "metadata": {},
   "source": [
    "- cd 프로젝트 경로\n",
    "- git config --list: 해당 프로젝트의 환경설정까지 확인할 수 있다.\n",
    "- git config user.name \"test\": 해당 프로젝트의 user.name을 변경"
   ]
  },
  {
   "cell_type": "markdown",
   "id": "bc88ab35",
   "metadata": {},
   "source": [
    "- git config --list를 수행하면  \n",
    "    => global user.name:yih789와 user.name:test가 둘 다 출력된다."
   ]
  },
  {
   "cell_type": "markdown",
   "id": "9dcfad7e",
   "metadata": {},
   "source": [
    "    ==> 사용자를 test로 바꾼 위의 상황에서 새로운 파일을 생성하고 add & commit 하면 git log 에서 작성자 이름이 test인 것을 확인할 수 있다."
   ]
  },
  {
   "cell_type": "markdown",
   "id": "bfe60925",
   "metadata": {},
   "source": [
    "    ==> global user.name과 user.name이 둘 다 존재하지만\n",
    "    ==> git log 에서 작성자 이름이 test인 것을 확인할 수 있다."
   ]
  },
  {
   "cell_type": "markdown",
   "id": "70e6f20f",
   "metadata": {},
   "source": [
    "**~중복되는 설정에 한해서 --global config보다 특정 프로젝트의 config가 우선시 된다는 것을 알 수 있다.**"
   ]
  }
 ],
 "metadata": {
  "kernelspec": {
   "display_name": "Python 3 (ipykernel)",
   "language": "python",
   "name": "python3"
  },
  "language_info": {
   "codemirror_mode": {
    "name": "ipython",
    "version": 3
   },
   "file_extension": ".py",
   "mimetype": "text/x-python",
   "name": "python",
   "nbconvert_exporter": "python",
   "pygments_lexer": "ipython3",
   "version": "3.8.12"
  }
 },
 "nbformat": 4,
 "nbformat_minor": 5
}
