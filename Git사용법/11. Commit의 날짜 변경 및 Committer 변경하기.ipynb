{
 "cells": [
  {
   "cell_type": "markdown",
   "id": "45a0b950",
   "metadata": {},
   "source": [
    "* 단어 사이사이 띄어쓰기를에 주의"
   ]
  },
  {
   "cell_type": "markdown",
   "id": "ae7f79d2",
   "metadata": {},
   "source": [
    "## [날짜 변경]"
   ]
  },
  {
   "cell_type": "markdown",
   "id": "1096e261",
   "metadata": {},
   "source": [
    "### 1. rebase 이용\n",
    "\\- cmd 창에서 되지 않으면 git bash창 이용"
   ]
  },
  {
   "cell_type": "markdown",
   "id": "b4703c5d",
   "metadata": {},
   "source": [
    "- git rebase -i 'commit 해시값'  \n",
    "=> edit 사용, 입력할 수 있는 창으로 연결\n",
    "- GIT_COMMITER_DATE=\"Tue Jan 1 11:38:06 2022 +0900\" git commit --amend --no-edit --date \"Tue Jan 1 11:38:06 2022 +0900\"\n",
    "- git rebase --continue  \n",
    "==> 반영완료"
   ]
  },
  {
   "cell_type": "markdown",
   "id": "d9b4ef7e",
   "metadata": {},
   "source": [
    "### 2. filter-branch 이용\n",
    "- 아래 전체를 복사하여 사용"
   ]
  },
  {
   "cell_type": "markdown",
   "id": "382bbb96",
   "metadata": {},
   "source": [
    "git filter-branch -f --env-filter \\  \n",
    "\n",
    "'if [ $GIT_COMMIT = commit해시값 ]  \n",
    "then  \n",
    "export GIT_AUTHOR_DATE=\"Nov 25 11:38:06 2021 +0900\"  \n",
    "export GIT_COMMITER_DATE=\"Nov 25 11:38:06 2021 +0900\"  \n",
    "fi'  "
   ]
  },
  {
   "cell_type": "markdown",
   "id": "0815a8ba",
   "metadata": {},
   "source": [
    "## [ commiter의 이름과 이메일 변경 ]\n",
    "- 아래 전체를 복사하여 사용"
   ]
  },
  {
   "cell_type": "code",
   "execution_count": null,
   "id": "d90dfc3b",
   "metadata": {},
   "outputs": [],
   "source": [
    "git filter-branch -f --env-filter ' \\  \n",
    "\n",
    "OLD_EMAIL=\"yih789@naver.com\"\n",
    "\n",
    "CORRECT_NAME=\"yih789\"  \n",
    "CORRECT_EMAIL=\"yih789@naver.com\"  \n",
    "\n",
    "if [ $GIT_COMMITTER_EMAIL = $OLD EMAIL ]  \n",
    "then  \n",
    "export GIT_COMMITER_NAME=\"$CORRECT_NAME\"  \n",
    "exprot GIT_COMMITER_EMAIL=\"$CORRECT_EMAIL\"  \n",
    "fi  \n",
    "\n",
    "if [ $GIT_AUTHOR_EMAIL = $OLD_EMAIL ]  \n",
    "then  \n",
    "export GIT_AUTHOR_NAME=\"$CORRECT_NAME\"  \n",
    "export GIT_AUTHOR_EMAIL=\"$CORRECT_EMAIL\"  \n",
    "fi'"
   ]
  }
 ],
 "metadata": {
  "kernelspec": {
   "display_name": "Python 3 (ipykernel)",
   "language": "python",
   "name": "python3"
  },
  "language_info": {
   "codemirror_mode": {
    "name": "ipython",
    "version": 3
   },
   "file_extension": ".py",
   "mimetype": "text/x-python",
   "name": "python",
   "nbconvert_exporter": "python",
   "pygments_lexer": "ipython3",
   "version": "3.8.12"
  }
 },
 "nbformat": 4,
 "nbformat_minor": 5
}
