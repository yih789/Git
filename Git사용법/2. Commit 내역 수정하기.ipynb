{
 "cells": [
  {
   "cell_type": "markdown",
   "id": "8c390ba2",
   "metadata": {},
   "source": [
    "## 1. commit message 수정\n",
    "* git commit -m \"메세지\"를 수행할 때 메세지 내용을 잘 못 입력했다면\n",
    "* git commit **--amend**로 수정 후에\n",
    "* git push 하면 괜찮다.  \n",
    "    #### but"
   ]
  },
  {
   "cell_type": "markdown",
   "id": "f0ec7a7a",
   "metadata": {},
   "source": [
    "- git commit -m \"메세지\"\n",
    "- git push 후에\n",
    "- git commit --amend로 commit text를 변경한다면  \n",
    "    **~ 로컬저장소의 commit에는 정상적으로 반영되지만 원격저장소의 commit에는 반영되지 않는다.**  \n",
    "    **~ git push하면 둘의 상태가 달라 에러발생 하므로.**\n",
    "- git push -f 수행하면 된다."
   ]
  },
  {
   "cell_type": "markdown",
   "id": "bbe2e0d7",
   "metadata": {},
   "source": [
    "## 2. 특정 commit으로 돌아가기\n",
    "* git **log**: 모든 commit 정보를 보여준다.  \n",
    "    **~ 이때 특정 commit 지점으로 돌아가고 싶다면**\n",
    "    \n",
    "* git **reset** --hard 'commit의 해시값': 해당 commit으로 돌아가고 이후의 commit을 모두 지워버린다.  \n",
    "    ※ --soft, --mixed 등 다른 옵션도 참고  \n",
    "    **~ 이때 나의 로컬저장소에는 reset이 반영되지만 원격저장소에는 반영되지 않은 상태이기 때문에 git push를 하겠지만 둘의 구성이 다르기 때문에 에러가 발생한다.**\n",
    "* git **push -f**: 강제로 push를 수행하여 로컬저장소와 원격저장소가 동일하게 만들어준다."
   ]
  }
 ],
 "metadata": {
  "kernelspec": {
   "display_name": "Python 3 (ipykernel)",
   "language": "python",
   "name": "python3"
  },
  "language_info": {
   "codemirror_mode": {
    "name": "ipython",
    "version": 3
   },
   "file_extension": ".py",
   "mimetype": "text/x-python",
   "name": "python",
   "nbconvert_exporter": "python",
   "pygments_lexer": "ipython3",
   "version": "3.8.12"
  }
 },
 "nbformat": 4,
 "nbformat_minor": 5
}
