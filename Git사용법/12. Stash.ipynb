{
 "cells": [
  {
   "cell_type": "markdown",
   "id": "2fd5ad81",
   "metadata": {},
   "source": [
    "## · Stash\n",
    "\\- 작업 중에 commit을 완료하지 못하고 급하게 잠시 다른 작업을 해야할 때 작업파일을 숨겨주는 역할(Untracked files은 불가)"
   ]
  },
  {
   "cell_type": "markdown",
   "id": "ebfc98c5",
   "metadata": {},
   "source": [
    "### 1. 저장 - save\n",
    "* git stash: 저장하기\n",
    "* git stash save 'description': 설명 추가과 함께 저장하기\n",
    "\n",
    "### 2. 목록 - list\n",
    "* git stash list: stash 목록\n",
    "\n",
    "### 3. 적용 - apply(적용 후에도 리스트에 유지되므로 삭제 필요.)\n",
    "* git stash apply: 가장 최근의 stash가 적용\n",
    "* git stash apply stash@{숫자}: 지정한 stash 적용\n",
    "\n",
    "### 4.적용 - pop (적용 후 리스트에서 삭제, apply+drop)\n",
    "* git stash pop: 가장 최근의 stash가 적용\n",
    "* git stash pop stash@{숫자}: 지정한 stash 적용\n",
    "\n",
    "### 5.삭제 - drop (리스트에서 삭제)\n",
    "* git stash drop: 가장 최근의 stash가 적용\n",
    "* git stash drop stash@{숫자}: 지정한 stash 적용\n",
    "\n",
    "### 6. 전체삭제 - clear\n",
    "* git stash clear\n",
    "\n",
    "### 7. 적용내용 브런치로 가져오기\n",
    "* git stash branch '새로만들 브런치이름' stash@{숫자}  \n",
    "\\-stash내용으로 브런치가 생성되고 생성된 브런치로 checkout되며 stash는 삭제된다"
   ]
  }
 ],
 "metadata": {
  "kernelspec": {
   "display_name": "Python 3 (ipykernel)",
   "language": "python",
   "name": "python3"
  },
  "language_info": {
   "codemirror_mode": {
    "name": "ipython",
    "version": 3
   },
   "file_extension": ".py",
   "mimetype": "text/x-python",
   "name": "python",
   "nbconvert_exporter": "python",
   "pygments_lexer": "ipython3",
   "version": "3.8.12"
  }
 },
 "nbformat": 4,
 "nbformat_minor": 5
}
