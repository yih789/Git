{
 "cells": [
  {
   "cell_type": "markdown",
   "id": "ccb99d24",
   "metadata": {},
   "source": [
    "## · 브랜치 충돌: 각각의 브랜치가 동일한 파일에 대해서 다르게 작성할 때 발생"
   ]
  },
  {
   "cell_type": "markdown",
   "id": "004bdde7",
   "metadata": {},
   "source": [
    "- git branch develop\n",
    "- git checkout develop  \n",
    "\n",
    "==> develop 브랜치 상태에서 my_module.py에 div함수 추가\n",
    "\n",
    "- git add .\n",
    "- git commit -m \"Add my_module [Div]\"\n",
    "- git log를 확인해보면\n",
    "\n",
    "**~ \"Add my_module [Div]\" commit에 대해 HEAD가 develop을 가리키고 있고, main은 보이지 않는다. 왜냐 develop 브랜치에만 적용되고 main에는 적용되지 않았기 때문이다.** "
   ]
  },
  {
   "cell_type": "markdown",
   "id": "2481ad63",
   "metadata": {},
   "source": [
    "- git checkout main\n",
    "\n",
    "==> main 브랜치 상태에서 my_module.py에 div함수에 주석 추가\n",
    "\n",
    "- git add .\n",
    "- git commit -m \"Add my_module [Div] & Comment\"\n",
    "- git log\n",
    "\n",
    "**~ \"Add my_module [Div] & Comment\" commit에 대해 HEAD가 main을 가리키고 있고, develop은 보이지 않는다.** \n",
    "\n"
   ]
  },
  {
   "cell_type": "markdown",
   "id": "1b68015e",
   "metadata": {},
   "source": [
    "위의 상태에서\n",
    "- git merge develop\n",
    "\n",
    "==> 충돌발생"
   ]
  },
  {
   "cell_type": "markdown",
   "id": "75dca2ab",
   "metadata": {},
   "source": [
    "### ~ my_module.py를 다시 열어보면 충돌이 발생한 부분을 표시해주고 수동으로 선택할 수 있게 한다.** "
   ]
  }
 ],
 "metadata": {
  "kernelspec": {
   "display_name": "Python 3 (ipykernel)",
   "language": "python",
   "name": "python3"
  },
  "language_info": {
   "codemirror_mode": {
    "name": "ipython",
    "version": 3
   },
   "file_extension": ".py",
   "mimetype": "text/x-python",
   "name": "python",
   "nbconvert_exporter": "python",
   "pygments_lexer": "ipython3",
   "version": "3.8.12"
  }
 },
 "nbformat": 4,
 "nbformat_minor": 5
}
