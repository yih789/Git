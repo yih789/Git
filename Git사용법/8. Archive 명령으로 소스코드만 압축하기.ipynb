{
 "cells": [
  {
   "cell_type": "markdown",
   "id": "28522176",
   "metadata": {},
   "source": [
    "- cd 프로젝트 폴더\n",
    "- git archive --format=zip main -o ../Master.zip  \n",
    "    **~ zip형식으로 main 브랜치를 ..상위폴더에 Main.zip이라는 이름으로 .git과 같은 메타데이터는 포함하지 않고 오직 소스코드만 압축하여 다운로드**"
   ]
  }
 ],
 "metadata": {
  "kernelspec": {
   "display_name": "Python 3 (ipykernel)",
   "language": "python",
   "name": "python3"
  },
  "language_info": {
   "codemirror_mode": {
    "name": "ipython",
    "version": 3
   },
   "file_extension": ".py",
   "mimetype": "text/x-python",
   "name": "python",
   "nbconvert_exporter": "python",
   "pygments_lexer": "ipython3",
   "version": "3.8.12"
  }
 },
 "nbformat": 4,
 "nbformat_minor": 5
}
