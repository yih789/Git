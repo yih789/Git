{
 "cells": [
  {
   "cell_type": "markdown",
   "id": "f6f12fd9",
   "metadata": {},
   "source": [
    "## · Tag: 특정 commit을 기억하는 것\n",
    "* git tag '태그명': 현재 가리키는 commit을 태그명으로 저장  \n",
    "    ex) git tag 1.0.0\n",
    "* git tag '태그명' '원하는 commit ID': 특정 commit을 태그명으로 저장"
   ]
  },
  {
   "cell_type": "markdown",
   "id": "44a644b4",
   "metadata": {},
   "source": [
    "## · Annotated Tag: 의미를 함께 기록한 태그\n",
    "- git tag -a '태그명' -m \"message\""
   ]
  },
  {
   "cell_type": "markdown",
   "id": "5d0f3b04",
   "metadata": {},
   "source": [
    "## + tag는 push만으로 업로드되지 않아서 따로 옵션 필요\n",
    "* git push --tags"
   ]
  },
  {
   "cell_type": "markdown",
   "id": "6a3e5fc4",
   "metadata": {},
   "source": [
    "**tag 이름은 자신이 원하는 것으로 하지만 사용자 배포 목적이라면 버전명으로 명시하자.**"
   ]
  }
 ],
 "metadata": {
  "kernelspec": {
   "display_name": "Python 3 (ipykernel)",
   "language": "python",
   "name": "python3"
  },
  "language_info": {
   "codemirror_mode": {
    "name": "ipython",
    "version": 3
   },
   "file_extension": ".py",
   "mimetype": "text/x-python",
   "name": "python",
   "nbconvert_exporter": "python",
   "pygments_lexer": "ipython3",
   "version": "3.8.12"
  }
 },
 "nbformat": 4,
 "nbformat_minor": 5
}
