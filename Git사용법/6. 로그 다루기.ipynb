{
 "cells": [
  {
   "cell_type": "markdown",
   "id": "e2880b2b",
   "metadata": {},
   "source": [
    "### · log의 다양한 옵션 적용\n",
    "\n",
    "1. git log --stat: 몇 줄의 코드가 추가되었는지 함께 출력\n",
    "2. git log -p -3: 정확히 어떤 내용을 변경했는지, 최근 3개만 출력\n",
    "3. git log --graph: 그래프로 출력\n",
    "4. git log --pretty=oneline: commit 정보를 한 줄로 간결하게 출력\n",
    "5. git log --pretty=format:\"%h -> %an, %ar : %s\" --graph  \n",
    "~ 그래프 형식으로 해시값, 작성자, 시간, 내용 출력"
   ]
  },
  {
   "cell_type": "markdown",
   "id": "a374115e",
   "metadata": {},
   "source": [
    "==> git-hub에 commit이 보기좋게 기록되어 있고, insights로 그래프 형식도 확인할 수 있기 때문에 log 명령이 중요하진 않다."
   ]
  },
  {
   "cell_type": "markdown",
   "id": "4accc2fb",
   "metadata": {},
   "source": [
    "※ git **diff** 'commit ID\" \"commit ID\": 두 commit 사이의 차이점 비교"
   ]
  }
 ],
 "metadata": {
  "kernelspec": {
   "display_name": "Python 3 (ipykernel)",
   "language": "python",
   "name": "python3"
  },
  "language_info": {
   "codemirror_mode": {
    "name": "ipython",
    "version": 3
   },
   "file_extension": ".py",
   "mimetype": "text/x-python",
   "name": "python",
   "nbconvert_exporter": "python",
   "pygments_lexer": "ipython3",
   "version": "3.8.12"
  }
 },
 "nbformat": 4,
 "nbformat_minor": 5
}
