{
 "cells": [
  {
   "cell_type": "markdown",
   "id": "6c977bc7",
   "metadata": {},
   "source": [
    "- git remote: 원격 저장소 목록\n",
    "- git remote show **'원격저장소명'**: 해당 원격저장소에 대한 정보\n",
    "- git remote add **'원하는 저장소명'** **'원격저장소의 주소'**: 원격저장소 추가\n",
    "- git remote -v: 원격 저장소 전체 목록\n",
    "- git remote rename **'기존 저장소명'** **'새로운 이름'**: 원격저장소 이름 변경\n",
    "- git remote rm **'저장소명'**: 원격저장소 삭제"
   ]
  }
 ],
 "metadata": {
  "kernelspec": {
   "display_name": "Python 3 (ipykernel)",
   "language": "python",
   "name": "python3"
  },
  "language_info": {
   "codemirror_mode": {
    "name": "ipython",
    "version": 3
   },
   "file_extension": ".py",
   "mimetype": "text/x-python",
   "name": "python",
   "nbconvert_exporter": "python",
   "pygments_lexer": "ipython3",
   "version": "3.8.12"
  }
 },
 "nbformat": 4,
 "nbformat_minor": 5
}
