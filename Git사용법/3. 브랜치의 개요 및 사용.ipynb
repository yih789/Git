{
 "cells": [
  {
   "cell_type": "markdown",
   "id": "dae11b65",
   "metadata": {},
   "source": [
    "## · 브랜치: 동시에 여러 개발자들이 프로젝트에서 각기 다른 기능을 개발할 수 있게 한다.\n",
    "- 서로 다른 브랜치는 서로에게 영향을 받지 않는다.\n",
    "\n",
    "1. master branch: git에서 default로 설정한 브랜치. 안정적인 상태로 배포 가능한 수준의 브랜치이다.\n",
    "2. 나머지 branch: 특정 기능을 위해 만들어진 브랜치.  \n",
    "    **~ 나머지 branch의 변경사항을 수시로 master에 merge하여 배포하게 된다.**"
   ]
  },
  {
   "cell_type": "markdown",
   "id": "e13c674f",
   "metadata": {},
   "source": [
    "* git **branch**: 브랜치의 목록\n",
    "* git **branch '브랜치명'**: 새로운 브랜치 생성\n",
    "* git **checkout '브랜치명'**: 해당 브랜치로 접속"
   ]
  },
  {
   "cell_type": "markdown",
   "id": "b7db4cc8",
   "metadata": {},
   "source": [
    "## · 브랜치 병합"
   ]
  },
  {
   "cell_type": "markdown",
   "id": "94541b7c",
   "metadata": {},
   "source": [
    "* git branch develop: 새로운 develop 브랜치 생성\n",
    "* git checkout develop\n",
    "* git add .\n",
    "* git commit -m \"message\"\n",
    "\n",
    "**~ develop 브랜치 접속 후에 파일을 수정하여 add&commit 한다면 이것은 develop 브랜치에만 적용되고 main에는 적용되지 않았다.**  \n",
    "**~ develop 브랜치에서 작성한 내용을 main 브랜치에 통합하는 과정 필요**\n",
    "\n",
    "* git checkout **main**\n",
    "* git **merge** develop\n",
    "\n",
    "**~ 병합의 역할을 다한 브랜치는 제거한다.**\n",
    "- git branch -d develop"
   ]
  },
  {
   "cell_type": "markdown",
   "id": "139d17d2",
   "metadata": {},
   "source": [
    "==> 새로운 브랜치는 빈 데이터가 아니라 원본 main 브랜치의 최신 내용을 담으면서 가지치기 형식으로 옆으로 떨어져 나와 새로운 내용을 추가하는 것이다."
   ]
  }
 ],
 "metadata": {
  "kernelspec": {
   "display_name": "Python 3 (ipykernel)",
   "language": "python",
   "name": "python3"
  },
  "language_info": {
   "codemirror_mode": {
    "name": "ipython",
    "version": 3
   },
   "file_extension": ".py",
   "mimetype": "text/x-python",
   "name": "python",
   "nbconvert_exporter": "python",
   "pygments_lexer": "ipython3",
   "version": "3.8.12"
  }
 },
 "nbformat": 4,
 "nbformat_minor": 5
}
