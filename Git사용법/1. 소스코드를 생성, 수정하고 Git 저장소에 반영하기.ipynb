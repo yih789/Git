{
 "cells": [
  {
   "cell_type": "markdown",
   "id": "47e1b4c5",
   "metadata": {},
   "source": [
    "## [ git을 사용하기 위한 준비과정 ]\n",
    "1. git-hub 계정을 생성\n",
    "2. 컴퓨터에서 git을 사용하기 위해 git 설치\n",
    "3. 내 컴퓨터와 git-hub(원격저장소)가 안정적으로 연동되도록 환경설정\n",
    "* 명령 프롬프트 접속\n",
    "    * git config --global user.name 'git-hub ID'\n",
    "    * git config --global user.email 'git-hub Email'"
   ]
  },
  {
   "cell_type": "markdown",
   "id": "e7e5c5d0",
   "metadata": {},
   "source": [
    "## [ 실행 ]\n",
    "1. 폴더 생성\n",
    "2. 폴더 위치로 이동\n",
    "3. git clone '저장소 주소'  \n",
    "    **~ 해당 '저장소 이름'의 폴더가 생성되고 원격저장소에 있는 모든 파일이 업로드**  \n",
    "\n",
    "4. '저장소 이름' 폴더(.git 파일이 존재하는 위치)에 저장하고 싶은 파일들을 생성하면서 변경사항 업로드  \n",
    "**[ 업로드 순서 ]**  \n",
    "1. git add '파일명' or git add .\n",
    "2. git commit -m \"commit message\"\n",
    "3. git push"
   ]
  },
  {
   "cell_type": "markdown",
   "id": "f9428649",
   "metadata": {},
   "source": [
    "### + 추가 \n",
    "* git **reset** 파일명: add를 통해서 staging area에 올라간 파일을 다시 내려오게 한다.\n",
    "* git **status**  \n",
    "* git **checkout** -- 파일명: add를 기다리고 있는 변경이 발생한 파일의 수정사항을 반영하지 않고 파일의 상태도 수정 전 데이터로 돌아간다."
   ]
  }
 ],
 "metadata": {
  "kernelspec": {
   "display_name": "Python 3 (ipykernel)",
   "language": "python",
   "name": "python3"
  },
  "language_info": {
   "codemirror_mode": {
    "name": "ipython",
    "version": 3
   },
   "file_extension": ".py",
   "mimetype": "text/x-python",
   "name": "python",
   "nbconvert_exporter": "python",
   "pygments_lexer": "ipython3",
   "version": "3.8.12"
  }
 },
 "nbformat": 4,
 "nbformat_minor": 5
}
