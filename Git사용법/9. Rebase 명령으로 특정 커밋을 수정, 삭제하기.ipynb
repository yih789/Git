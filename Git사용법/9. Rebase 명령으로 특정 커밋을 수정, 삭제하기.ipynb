{
 "cells": [
  {
   "cell_type": "markdown",
   "id": "700fb95e",
   "metadata": {},
   "source": [
    "## · Rebase"
   ]
  },
  {
   "cell_type": "markdown",
   "id": "2c633b6c",
   "metadata": {},
   "source": [
    "- git rebase -i HEAD~3: 최근 3개 까지의 commit만 수정한다.\n",
    "- git rebase -i '특정 commit의 해시값': 해당 커밋을 제외하고 그 이후의 commit 수정한다.\n",
    "\n",
    "    ==> 에디터 안에서 reword, drop 이용해서 commit을 수정하고 삭제할 수 있다."
   ]
  },
  {
   "cell_type": "markdown",
   "id": "748526d6",
   "metadata": {},
   "source": [
    "**~ 'Drop Example1.txt' commit을 삭제하게 되면 마치 해당 commit이 없었던 것 처럼 Example1.txt 파일이 다시 돌아오는 것을 확인할 수 있다.**"
   ]
  },
  {
   "cell_type": "markdown",
   "id": "85c774b2",
   "metadata": {},
   "source": [
    "**~ 또한 rebase는 깊게 들어가면 많은 기능이 존재하기 때문에 별도로 공부하는 것이 좋다.**"
   ]
  }
 ],
 "metadata": {
  "kernelspec": {
   "display_name": "Python 3 (ipykernel)",
   "language": "python",
   "name": "python3"
  },
  "language_info": {
   "codemirror_mode": {
    "name": "ipython",
    "version": 3
   },
   "file_extension": ".py",
   "mimetype": "text/x-python",
   "name": "python",
   "nbconvert_exporter": "python",
   "pygments_lexer": "ipython3",
   "version": "3.8.12"
  }
 },
 "nbformat": 4,
 "nbformat_minor": 5
}
